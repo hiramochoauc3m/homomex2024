{
  "cells": [
    {
      "cell_type": "code",
      "execution_count": null,
      "metadata": {
        "id": "X9YQg_1_UYhh",
        "colab": {
          "base_uri": "https://localhost:8080/"
        },
        "outputId": "83052fe3-f3a2-47c8-dfad-963912060c02"
      },
      "outputs": [
        {
          "output_type": "stream",
          "name": "stdout",
          "text": [
            "Drive already mounted at /content/drive; to attempt to forcibly remount, call drive.mount(\"/content/drive\", force_remount=True).\n"
          ]
        }
      ],
      "source": [
        "from google.colab import drive\n",
        "# monta tu unidad de google drive\n",
        "drive.mount('/content/drive')\n",
        "\n",
        "# cambiamos el directorio de trabajo a la carpeta donde está almacenado el dataset\n",
        "import os\n",
        "os.chdir('/content/drive/My Drive/Colab Notebooks/HomoMex_2024/public_data_dev_phase')"
      ]
    },
    {
      "cell_type": "markdown",
      "metadata": {
        "id": "QXan7xi1I4R2"
      },
      "source": [
        "\n",
        "CNN\n",
        "Fragmento el dataset en training validacion test"
      ]
    },
    {
      "cell_type": "code",
      "execution_count": null,
      "metadata": {
        "colab": {
          "base_uri": "https://localhost:8080/",
          "height": 242
        },
        "id": "exCVvkyyVG_R",
        "outputId": "d68c5956-25a1-497b-adce-e30b990ce6c4"
      },
      "outputs": [
        {
          "output_type": "stream",
          "name": "stdout",
          "text": [
            "tamaño training: (10575, 2)\n",
            "tamaño test: (420, 2)\n"
          ]
        },
        {
          "output_type": "execute_result",
          "data": {
            "text/plain": [
              "                                             content label\n",
              "0  @bi_cabron pues no te llega al estómago,  sino...    NR\n",
              "1  🚨 BREAKING NEWS 🚨\\n\\n⚧Gracias al litigio @Cher...    NP\n",
              "2  Vamos MONTERREY!!!!!!! Queremos la Copa! La hi...    NR\n",
              "3  Como disfruto a estas locas desde morritas ......    NR\n",
              "4  Fans de #Transformers hoy voy a regalar pases ...    NR"
            ],
            "text/html": [
              "\n",
              "  <div id=\"df-eb27cdfe-8af0-43c3-ace0-3af0c551ec01\" class=\"colab-df-container\">\n",
              "    <div>\n",
              "<style scoped>\n",
              "    .dataframe tbody tr th:only-of-type {\n",
              "        vertical-align: middle;\n",
              "    }\n",
              "\n",
              "    .dataframe tbody tr th {\n",
              "        vertical-align: top;\n",
              "    }\n",
              "\n",
              "    .dataframe thead th {\n",
              "        text-align: right;\n",
              "    }\n",
              "</style>\n",
              "<table border=\"1\" class=\"dataframe\">\n",
              "  <thead>\n",
              "    <tr style=\"text-align: right;\">\n",
              "      <th></th>\n",
              "      <th>content</th>\n",
              "      <th>label</th>\n",
              "    </tr>\n",
              "  </thead>\n",
              "  <tbody>\n",
              "    <tr>\n",
              "      <th>0</th>\n",
              "      <td>@bi_cabron pues no te llega al estómago,  sino...</td>\n",
              "      <td>NR</td>\n",
              "    </tr>\n",
              "    <tr>\n",
              "      <th>1</th>\n",
              "      <td>🚨 BREAKING NEWS 🚨\\n\\n⚧Gracias al litigio @Cher...</td>\n",
              "      <td>NP</td>\n",
              "    </tr>\n",
              "    <tr>\n",
              "      <th>2</th>\n",
              "      <td>Vamos MONTERREY!!!!!!! Queremos la Copa! La hi...</td>\n",
              "      <td>NR</td>\n",
              "    </tr>\n",
              "    <tr>\n",
              "      <th>3</th>\n",
              "      <td>Como disfruto a estas locas desde morritas ......</td>\n",
              "      <td>NR</td>\n",
              "    </tr>\n",
              "    <tr>\n",
              "      <th>4</th>\n",
              "      <td>Fans de #Transformers hoy voy a regalar pases ...</td>\n",
              "      <td>NR</td>\n",
              "    </tr>\n",
              "  </tbody>\n",
              "</table>\n",
              "</div>\n",
              "    <div class=\"colab-df-buttons\">\n",
              "\n",
              "  <div class=\"colab-df-container\">\n",
              "    <button class=\"colab-df-convert\" onclick=\"convertToInteractive('df-eb27cdfe-8af0-43c3-ace0-3af0c551ec01')\"\n",
              "            title=\"Convert this dataframe to an interactive table.\"\n",
              "            style=\"display:none;\">\n",
              "\n",
              "  <svg xmlns=\"http://www.w3.org/2000/svg\" height=\"24px\" viewBox=\"0 -960 960 960\">\n",
              "    <path d=\"M120-120v-720h720v720H120Zm60-500h600v-160H180v160Zm220 220h160v-160H400v160Zm0 220h160v-160H400v160ZM180-400h160v-160H180v160Zm440 0h160v-160H620v160ZM180-180h160v-160H180v160Zm440 0h160v-160H620v160Z\"/>\n",
              "  </svg>\n",
              "    </button>\n",
              "\n",
              "  <style>\n",
              "    .colab-df-container {\n",
              "      display:flex;\n",
              "      gap: 12px;\n",
              "    }\n",
              "\n",
              "    .colab-df-convert {\n",
              "      background-color: #E8F0FE;\n",
              "      border: none;\n",
              "      border-radius: 50%;\n",
              "      cursor: pointer;\n",
              "      display: none;\n",
              "      fill: #1967D2;\n",
              "      height: 32px;\n",
              "      padding: 0 0 0 0;\n",
              "      width: 32px;\n",
              "    }\n",
              "\n",
              "    .colab-df-convert:hover {\n",
              "      background-color: #E2EBFA;\n",
              "      box-shadow: 0px 1px 2px rgba(60, 64, 67, 0.3), 0px 1px 3px 1px rgba(60, 64, 67, 0.15);\n",
              "      fill: #174EA6;\n",
              "    }\n",
              "\n",
              "    .colab-df-buttons div {\n",
              "      margin-bottom: 4px;\n",
              "    }\n",
              "\n",
              "    [theme=dark] .colab-df-convert {\n",
              "      background-color: #3B4455;\n",
              "      fill: #D2E3FC;\n",
              "    }\n",
              "\n",
              "    [theme=dark] .colab-df-convert:hover {\n",
              "      background-color: #434B5C;\n",
              "      box-shadow: 0px 1px 3px 1px rgba(0, 0, 0, 0.15);\n",
              "      filter: drop-shadow(0px 1px 2px rgba(0, 0, 0, 0.3));\n",
              "      fill: #FFFFFF;\n",
              "    }\n",
              "  </style>\n",
              "\n",
              "    <script>\n",
              "      const buttonEl =\n",
              "        document.querySelector('#df-eb27cdfe-8af0-43c3-ace0-3af0c551ec01 button.colab-df-convert');\n",
              "      buttonEl.style.display =\n",
              "        google.colab.kernel.accessAllowed ? 'block' : 'none';\n",
              "\n",
              "      async function convertToInteractive(key) {\n",
              "        const element = document.querySelector('#df-eb27cdfe-8af0-43c3-ace0-3af0c551ec01');\n",
              "        const dataTable =\n",
              "          await google.colab.kernel.invokeFunction('convertToInteractive',\n",
              "                                                    [key], {});\n",
              "        if (!dataTable) return;\n",
              "\n",
              "        const docLinkHtml = 'Like what you see? Visit the ' +\n",
              "          '<a target=\"_blank\" href=https://colab.research.google.com/notebooks/data_table.ipynb>data table notebook</a>'\n",
              "          + ' to learn more about interactive tables.';\n",
              "        element.innerHTML = '';\n",
              "        dataTable['output_type'] = 'display_data';\n",
              "        await google.colab.output.renderOutput(dataTable, element);\n",
              "        const docLink = document.createElement('div');\n",
              "        docLink.innerHTML = docLinkHtml;\n",
              "        element.appendChild(docLink);\n",
              "      }\n",
              "    </script>\n",
              "  </div>\n",
              "\n",
              "\n",
              "<div id=\"df-fbb7e1fe-debf-4415-bf14-a2ea1b5aa9a4\">\n",
              "  <button class=\"colab-df-quickchart\" onclick=\"quickchart('df-fbb7e1fe-debf-4415-bf14-a2ea1b5aa9a4')\"\n",
              "            title=\"Suggest charts\"\n",
              "            style=\"display:none;\">\n",
              "\n",
              "<svg xmlns=\"http://www.w3.org/2000/svg\" height=\"24px\"viewBox=\"0 0 24 24\"\n",
              "     width=\"24px\">\n",
              "    <g>\n",
              "        <path d=\"M19 3H5c-1.1 0-2 .9-2 2v14c0 1.1.9 2 2 2h14c1.1 0 2-.9 2-2V5c0-1.1-.9-2-2-2zM9 17H7v-7h2v7zm4 0h-2V7h2v10zm4 0h-2v-4h2v4z\"/>\n",
              "    </g>\n",
              "</svg>\n",
              "  </button>\n",
              "\n",
              "<style>\n",
              "  .colab-df-quickchart {\n",
              "      --bg-color: #E8F0FE;\n",
              "      --fill-color: #1967D2;\n",
              "      --hover-bg-color: #E2EBFA;\n",
              "      --hover-fill-color: #174EA6;\n",
              "      --disabled-fill-color: #AAA;\n",
              "      --disabled-bg-color: #DDD;\n",
              "  }\n",
              "\n",
              "  [theme=dark] .colab-df-quickchart {\n",
              "      --bg-color: #3B4455;\n",
              "      --fill-color: #D2E3FC;\n",
              "      --hover-bg-color: #434B5C;\n",
              "      --hover-fill-color: #FFFFFF;\n",
              "      --disabled-bg-color: #3B4455;\n",
              "      --disabled-fill-color: #666;\n",
              "  }\n",
              "\n",
              "  .colab-df-quickchart {\n",
              "    background-color: var(--bg-color);\n",
              "    border: none;\n",
              "    border-radius: 50%;\n",
              "    cursor: pointer;\n",
              "    display: none;\n",
              "    fill: var(--fill-color);\n",
              "    height: 32px;\n",
              "    padding: 0;\n",
              "    width: 32px;\n",
              "  }\n",
              "\n",
              "  .colab-df-quickchart:hover {\n",
              "    background-color: var(--hover-bg-color);\n",
              "    box-shadow: 0 1px 2px rgba(60, 64, 67, 0.3), 0 1px 3px 1px rgba(60, 64, 67, 0.15);\n",
              "    fill: var(--button-hover-fill-color);\n",
              "  }\n",
              "\n",
              "  .colab-df-quickchart-complete:disabled,\n",
              "  .colab-df-quickchart-complete:disabled:hover {\n",
              "    background-color: var(--disabled-bg-color);\n",
              "    fill: var(--disabled-fill-color);\n",
              "    box-shadow: none;\n",
              "  }\n",
              "\n",
              "  .colab-df-spinner {\n",
              "    border: 2px solid var(--fill-color);\n",
              "    border-color: transparent;\n",
              "    border-bottom-color: var(--fill-color);\n",
              "    animation:\n",
              "      spin 1s steps(1) infinite;\n",
              "  }\n",
              "\n",
              "  @keyframes spin {\n",
              "    0% {\n",
              "      border-color: transparent;\n",
              "      border-bottom-color: var(--fill-color);\n",
              "      border-left-color: var(--fill-color);\n",
              "    }\n",
              "    20% {\n",
              "      border-color: transparent;\n",
              "      border-left-color: var(--fill-color);\n",
              "      border-top-color: var(--fill-color);\n",
              "    }\n",
              "    30% {\n",
              "      border-color: transparent;\n",
              "      border-left-color: var(--fill-color);\n",
              "      border-top-color: var(--fill-color);\n",
              "      border-right-color: var(--fill-color);\n",
              "    }\n",
              "    40% {\n",
              "      border-color: transparent;\n",
              "      border-right-color: var(--fill-color);\n",
              "      border-top-color: var(--fill-color);\n",
              "    }\n",
              "    60% {\n",
              "      border-color: transparent;\n",
              "      border-right-color: var(--fill-color);\n",
              "    }\n",
              "    80% {\n",
              "      border-color: transparent;\n",
              "      border-right-color: var(--fill-color);\n",
              "      border-bottom-color: var(--fill-color);\n",
              "    }\n",
              "    90% {\n",
              "      border-color: transparent;\n",
              "      border-bottom-color: var(--fill-color);\n",
              "    }\n",
              "  }\n",
              "</style>\n",
              "\n",
              "  <script>\n",
              "    async function quickchart(key) {\n",
              "      const quickchartButtonEl =\n",
              "        document.querySelector('#' + key + ' button');\n",
              "      quickchartButtonEl.disabled = true;  // To prevent multiple clicks.\n",
              "      quickchartButtonEl.classList.add('colab-df-spinner');\n",
              "      try {\n",
              "        const charts = await google.colab.kernel.invokeFunction(\n",
              "            'suggestCharts', [key], {});\n",
              "      } catch (error) {\n",
              "        console.error('Error during call to suggestCharts:', error);\n",
              "      }\n",
              "      quickchartButtonEl.classList.remove('colab-df-spinner');\n",
              "      quickchartButtonEl.classList.add('colab-df-quickchart-complete');\n",
              "    }\n",
              "    (() => {\n",
              "      let quickchartButtonEl =\n",
              "        document.querySelector('#df-fbb7e1fe-debf-4415-bf14-a2ea1b5aa9a4 button');\n",
              "      quickchartButtonEl.style.display =\n",
              "        google.colab.kernel.accessAllowed ? 'block' : 'none';\n",
              "    })();\n",
              "  </script>\n",
              "</div>\n",
              "    </div>\n",
              "  </div>\n"
            ],
            "application/vnd.google.colaboratory.intrinsic+json": {
              "type": "dataframe",
              "variable_name": "df_train",
              "summary": "{\n  \"name\": \"df_train\",\n  \"rows\": 10575,\n  \"fields\": [\n    {\n      \"column\": \"content\",\n      \"properties\": {\n        \"dtype\": \"string\",\n        \"num_unique_values\": 6006,\n        \"samples\": [\n          \"@DrManuelGarrcia \\u00bfGente trans en las artes y logradas?\\n\\nLuisa Almaguer, Emma, Zemmoa, La bruja de Texcoco, Raquel Mart\\u00ednez, MJ Rodr\\u00edguez, Laverne Cox, Sophie, Kim petras, Zackary Drucker y Rhys Ernst, Wu Tsang, May Molina, Ricardo del Real, Shea Diamond\",\n          \"Chillo como mariquita :(  #TheWalkingDead #twdseason8\\u202f\\u202f#Twd url\",\n          \"@iValVals Joto yo pendeja soy Mujer x cierto que clase de mujer eres ???? porque eres Horrible.\"\n        ],\n        \"semantic_type\": \"\",\n        \"description\": \"\"\n      }\n    },\n    {\n      \"column\": \"label\",\n      \"properties\": {\n        \"dtype\": \"category\",\n        \"num_unique_values\": 3,\n        \"samples\": [\n          \"NR\",\n          \"NP\",\n          \"P\"\n        ],\n        \"semantic_type\": \"\",\n        \"description\": \"\"\n      }\n    }\n  ]\n}"
            }
          },
          "metadata": {},
          "execution_count": 74
        }
      ],
      "source": [
        "import pandas as pd\n",
        "\n",
        "df_train = pd.read_csv(\"TrainT_concat.csv\",  sep=',')\n",
        "df_test = pd.read_csv(\"df_test_6_Df_original.csv\",  sep=',')\n",
        "\n",
        "print('tamaño training:', df_train.shape)\n",
        "print('tamaño test:', df_test.shape)\n",
        "\n",
        "# mostramos los primeros registros del training:\n",
        "df_train.head()\n",
        "\n"
      ]
    },
    {
      "cell_type": "markdown",
      "metadata": {
        "id": "traheZLMU_m8"
      },
      "source": [
        "Distribucion de las clases"
      ]
    },
    {
      "cell_type": "code",
      "execution_count": null,
      "metadata": {
        "colab": {
          "base_uri": "https://localhost:8080/"
        },
        "id": "OHCHkqG3tyC_",
        "outputId": "3cfe5bcf-1f24-481d-ba31-8cc98265994c"
      },
      "outputs": [
        {
          "output_type": "stream",
          "name": "stdout",
          "text": [
            "Distribución en training: {'NR': 3525, 'NP': 3525, 'P': 3525}\n",
            "Distribución en test: {'NP': 261, 'NR': 107, 'P': 52}\n"
          ]
        }
      ],
      "source": [
        "counts_train = df_train['label'].value_counts().to_dict()\n",
        "print(\"Distribución en training:\", counts_train)\n",
        "counts_test = df_test['label'].value_counts().to_dict()\n",
        "print(\"Distribución en test:\", counts_test)\n"
      ]
    },
    {
      "cell_type": "code",
      "execution_count": null,
      "metadata": {
        "colab": {
          "base_uri": "https://localhost:8080/",
          "height": 923
        },
        "id": "MoMLO3yyUvD3",
        "outputId": "e24a4120-309d-47f1-e2d0-f51b0962282f"
      },
      "outputs": [
        {
          "output_type": "stream",
          "name": "stderr",
          "text": [
            "<ipython-input-76-47cc4b87081f>:6: UserWarning: FixedFormatter should only be used together with FixedLocator\n",
            "  ax_train.set_xticklabels(list(counts_train.keys()), rotation=45)\n",
            "<ipython-input-76-47cc4b87081f>:13: UserWarning: FixedFormatter should only be used together with FixedLocator\n",
            "  ax_test.set_xticklabels(list(counts_test.keys()), rotation=45)\n"
          ]
        },
        {
          "output_type": "execute_result",
          "data": {
            "text/plain": [
              "Text(0, 0.5, 'Número de Instancias')"
            ]
          },
          "metadata": {},
          "execution_count": 76
        },
        {
          "output_type": "display_data",
          "data": {
            "text/plain": [
              "<Figure size 2000x1000 with 2 Axes>"
            ],
            "image/png": "[encoded data removed]"
          },
          "metadata": {}
        }
      ],
      "source": [
        "import matplotlib.pyplot as plt\n",
        "\n",
        "fig, (ax_train, ax_test) = plt.subplots(1, 2, figsize=(20, 10))\n",
        "fig.suptitle('Distribución de clases')\n",
        "ax_train.bar(list(counts_train.keys()), counts_train.values(), width=0.4)\n",
        "ax_train.set_xticklabels(list(counts_train.keys()), rotation=45)\n",
        "\n",
        "ax_train.set_title('Conjunto de entrenamiento')\n",
        "ax_train.set_xlabel('Clases')\n",
        "ax_train.set_ylabel('Número de Instancias')\n",
        "\n",
        "ax_test.bar(list(counts_test.keys()), counts_test.values(), width=0.4)\n",
        "ax_test.set_xticklabels(list(counts_test.keys()), rotation=45)\n",
        "\n",
        "ax_test.set_title('Conjunto de evaluación')\n",
        "ax_test.set_xlabel('Clases')\n",
        "ax_test.set_ylabel('Número de Instancias')"
      ]
    },
    {
      "cell_type": "markdown",
      "metadata": {
        "id": "f_McigJnggoC"
      },
      "source": [
        "LABEL ENCODING"
      ]
    },
    {
      "cell_type": "code",
      "execution_count": null,
      "metadata": {
        "colab": {
          "base_uri": "https://localhost:8080/"
        },
        "id": "W2e8Wazsftjy",
        "outputId": "3a4d26eb-5c2f-41a6-f981-7811705e1c90"
      },
      "outputs": [
        {
          "output_type": "stream",
          "name": "stdout",
          "text": [
            "antes de transform:  ['NR', 'NP', 'NR', 'NR', 'NR', 'NP', 'NP', 'NP', 'NR', 'NP']\n",
            "labels: ['NP' 'NR' 'P']\n",
            "después de transform: [1 0 1 1 1 0 0 0 1 0]\n",
            "después de transform: [[0. 1. 0.]\n",
            " [1. 0. 0.]\n",
            " [0. 1. 0.]\n",
            " [0. 1. 0.]\n",
            " [0. 1. 0.]\n",
            " [1. 0. 0.]\n",
            " [1. 0. 0.]\n",
            " [1. 0. 0.]\n",
            " [0. 1. 0.]\n",
            " [1. 0. 0.]]\n"
          ]
        }
      ],
      "source": [
        "from sklearn.preprocessing import LabelEncoder\n",
        "from keras.utils import to_categorical\n",
        "\n",
        "y_train = df_train['label'].tolist()\n",
        "# print(NUM_LABELS)\n",
        "\n",
        "\n",
        "y_test = df_test['label'].tolist()\n",
        "\n",
        "le = LabelEncoder()\n",
        "\n",
        "print(\"antes de transform: \", y_train[:10])\n",
        "y_train = le.fit_transform(y_train)\n",
        "print(\"labels:\", le.classes_)\n",
        "LABELS = le.classes_\n",
        "NUM_LABELS = len(LABELS)\n",
        "\n",
        "print(\"después de transform:\", y_train[:10])\n",
        "y_train_cat = to_categorical(y_train)\n",
        "print(\"después de transform:\", y_train_cat[:10])\n",
        "\n",
        "y_test = le.fit_transform(y_test)\n",
        "y_test_cat = to_categorical(y_test)\n",
        "\n",
        "\n",
        "\n"
      ]
    },
    {
      "cell_type": "markdown",
      "metadata": {
        "id": "fD8zOw2RVtJW"
      },
      "source": [
        "REPRESENTACION DE TEXTO"
      ]
    },
    {
      "cell_type": "code",
      "execution_count": null,
      "metadata": {
        "colab": {
          "base_uri": "https://localhost:8080/"
        },
        "id": "Uc2ujFL_ZiIv",
        "outputId": "f0367d7c-393d-4457-9d5a-5cf1d6d36160"
      },
      "outputs": [
        {
          "output_type": "stream",
          "name": "stdout",
          "text": [
            "Tamaño del vocabulario =23041\n"
          ]
        }
      ],
      "source": [
        "from keras.preprocessing.text import Tokenizer\n",
        "\n",
        "X_train = df_train['content'].tolist()\n",
        "\n",
        "tokenizer = Tokenizer(oov_token = True)\n",
        "tokenizer.fit_on_texts(X_train)\n",
        "\n",
        "tokenizer.word_index['<PAD>'] = 0\n",
        "\n",
        "NUM_WORDS=len(tokenizer.word_index)\n",
        "print(\"Tamaño del vocabulario ={}\".format(NUM_WORDS))"
      ]
    },
    {
      "cell_type": "code",
      "source": [
        "from keras.utils import pad_sequences\n",
        "MAX_LEN=45\n",
        "encoded_train = tokenizer.texts_to_sequences(X_train)\n",
        "encoded_train_pad = pad_sequences(encoded_train, maxlen = MAX_LEN,\n",
        "                              padding='post', truncating='post')"
      ],
      "metadata": {
        "id": "Bemq0n-ZmQRd"
      },
      "execution_count": null,
      "outputs": []
    },
    {
      "cell_type": "markdown",
      "metadata": {
        "id": "zGQNHr7XWIab"
      },
      "source": [
        "Cargar el modelo de word embeddings"
      ]
    },
    {
      "cell_type": "markdown",
      "metadata": {
        "id": "9PiALluLWcl7"
      },
      "source": [
        "Crear Matriz de embeddings (estudiar eso)"
      ]
    },
    {
      "cell_type": "markdown",
      "metadata": {
        "id": "IJd30hqyZ765"
      },
      "source": [
        "CNN"
      ]
    },
    {
      "cell_type": "code",
      "execution_count": null,
      "metadata": {
        "colab": {
          "base_uri": "https://localhost:8080/",
          "height": 36
        },
        "id": "X__A5YX5mI1Y",
        "outputId": "12cc15fd-d9a6-4d8f-b448-f238c76944e8"
      },
      "outputs": [
        {
          "output_type": "execute_result",
          "data": {
            "text/plain": [
              "'2.15.0'"
            ],
            "application/vnd.google.colaboratory.intrinsic+json": {
              "type": "string"
            }
          },
          "metadata": {},
          "execution_count": 84
        }
      ],
      "source": [
        "import tensorflow as tf\n",
        "# asegurar que los experimentos se pueden reproducir\n",
        "tf.random.set_seed(42)\n",
        "tf.__version__"
      ]
    },
    {
      "cell_type": "markdown",
      "metadata": {
        "id": "L3fF-0WeaU_w"
      },
      "source": [
        "Crear el modelo"
      ]
    },
    {
      "cell_type": "code",
      "execution_count": null,
      "metadata": {
        "id": "sZU29LEPrQiO",
        "colab": {
          "base_uri": "https://localhost:8080/"
        },
        "outputId": "246965a8-b543-4af9-e4d6-2757510c6597"
      },
      "outputs": [
        {
          "output_type": "stream",
          "name": "stdout",
          "text": [
            "Model: \"sequential_15\"\n",
            "_________________________________________________________________\n",
            " Layer (type)                Output Shape              Param #   \n",
            "=================================================================\n",
            " embedding_14 (Embedding)    (None, 45, 300)           6912300   \n",
            "                                                                 \n",
            " conv1d_42 (Conv1D)          (None, 45, 128)           153728    \n",
            "                                                                 \n",
            " max_pooling1d_48 (MaxPooli  (None, 22, 128)           0         \n",
            " ng1D)                                                           \n",
            "                                                                 \n",
            " conv1d_43 (Conv1D)          (None, 22, 64)            32832     \n",
            "                                                                 \n",
            " max_pooling1d_49 (MaxPooli  (None, 11, 64)            0         \n",
            " ng1D)                                                           \n",
            "                                                                 \n",
            " conv1d_44 (Conv1D)          (None, 11, 32)            8224      \n",
            "                                                                 \n",
            " max_pooling1d_50 (MaxPooli  (None, 5, 32)             0         \n",
            " ng1D)                                                           \n",
            "                                                                 \n",
            " max_pooling1d_51 (MaxPooli  (None, 2, 32)             0         \n",
            " ng1D)                                                           \n",
            "                                                                 \n",
            " dropout_13 (Dropout)        (None, 2, 32)             0         \n",
            "                                                                 \n",
            " bidirectional_16 (Bidirect  (None, 2, 64)             16640     \n",
            " ional)                                                          \n",
            "                                                                 \n",
            " flatten_9 (Flatten)         (None, 128)               0         \n",
            "                                                                 \n",
            " dense_21 (Dense)            (None, 128)               16512     \n",
            "                                                                 \n",
            " dropout_14 (Dropout)        (None, 128)               0         \n",
            "                                                                 \n",
            " dense_22 (Dense)            (None, 1)                 129       \n",
            "                                                                 \n",
            "=================================================================\n",
            "Total params: 7140365 (27.24 MB)\n",
            "Trainable params: 7140365 (27.24 MB)\n",
            "Non-trainable params: 0 (0.00 Byte)\n",
            "_________________________________________________________________\n"
          ]
        }
      ],
      "source": [
        "from keras.models import Sequential\n",
        "from keras.layers import Flatten, Dense, Embedding, Conv1D, MaxPooling1D\n",
        "\n",
        "\n",
        "model = Sequential()\n",
        "EMBEDDING_SIZE=300 #probar con 200, 300\n",
        "\n",
        "### Esta es la única capa que se ve modificada\n",
        "model.add(Embedding(NUM_WORDS,EMBEDDING_SIZE,input_length=MAX_LEN,))\n",
        "\n",
        "model.add(Conv1D(filters=128, kernel_size=4, padding='same', activation='relu'))\n",
        "model.add(MaxPooling1D(pool_size=2))\n",
        "\n",
        "model.add(Conv1D(filters=64, kernel_size=4, padding='same', activation='relu'))\n",
        "model.add(MaxPooling1D(pool_size=2))\n",
        "\n",
        "model.add(Conv1D(filters=32, kernel_size=4, padding='same', activation='relu'))\n",
        "model.add(MaxPooling1D(pool_size=2))\n",
        "model.add(MaxPooling1D(pool_size=2))\n",
        "model.add(Dropout(0.25))\n",
        "\n",
        "# Capa BLSTM\n",
        "model.add(Bidirectional(LSTM(32, return_sequences=True, recurrent_dropout=0.2)))\n",
        "\n",
        "# Capa de aplanamiento\n",
        "model.add(Flatten())\n",
        "\n",
        "# Capas completamente conectadas\n",
        "model.add(Dense(128, activation='relu'))\n",
        "model.add(Dropout(0.5))\n",
        "model.add(Dense(1, activation='sigmoid'))\n",
        "\n",
        "# Compilar el modelo\n",
        "model.compile(optimizer='adam', loss='binary_crossentropy', metrics=['accuracy'])\n",
        "\n",
        "# Resumen del modelo\n",
        "model.summary()"
      ]
    },
    {
      "cell_type": "code",
      "execution_count": null,
      "metadata": {
        "id": "dC-sNgCAtHeI",
        "colab": {
          "base_uri": "https://localhost:8080/"
        },
        "outputId": "898bdb07-0b73-4238-dd7a-549ebd4120ec"
      },
      "outputs": [
        {
          "output_type": "stream",
          "name": "stdout",
          "text": [
            "Model: \"sequential_15\"\n",
            "_________________________________________________________________\n",
            " Layer (type)                Output Shape              Param #   \n",
            "=================================================================\n",
            " embedding_14 (Embedding)    (None, 45, 300)           6912300   \n",
            "                                                                 \n",
            " conv1d_42 (Conv1D)          (None, 45, 128)           153728    \n",
            "                                                                 \n",
            " max_pooling1d_48 (MaxPooli  (None, 22, 128)           0         \n",
            " ng1D)                                                           \n",
            "                                                                 \n",
            " conv1d_43 (Conv1D)          (None, 22, 64)            32832     \n",
            "                                                                 \n",
            " max_pooling1d_49 (MaxPooli  (None, 11, 64)            0         \n",
            " ng1D)                                                           \n",
            "                                                                 \n",
            " conv1d_44 (Conv1D)          (None, 11, 32)            8224      \n",
            "                                                                 \n",
            " max_pooling1d_50 (MaxPooli  (None, 5, 32)             0         \n",
            " ng1D)                                                           \n",
            "                                                                 \n",
            " max_pooling1d_51 (MaxPooli  (None, 2, 32)             0         \n",
            " ng1D)                                                           \n",
            "                                                                 \n",
            " dropout_13 (Dropout)        (None, 2, 32)             0         \n",
            "                                                                 \n",
            " bidirectional_16 (Bidirect  (None, 2, 64)             16640     \n",
            " ional)                                                          \n",
            "                                                                 \n",
            " flatten_9 (Flatten)         (None, 128)               0         \n",
            "                                                                 \n",
            " dense_21 (Dense)            (None, 128)               16512     \n",
            "                                                                 \n",
            " dropout_14 (Dropout)        (None, 128)               0         \n",
            "                                                                 \n",
            " dense_22 (Dense)            (None, 1)                 129       \n",
            "                                                                 \n",
            " flatten_10 (Flatten)        (None, 1)                 0         \n",
            "                                                                 \n",
            " dense_23 (Dense)            (None, 50)                100       \n",
            "                                                                 \n",
            " dense_24 (Dense)            (None, 3)                 153       \n",
            "                                                                 \n",
            "=================================================================\n",
            "Total params: 7140618 (27.24 MB)\n",
            "Trainable params: 7140618 (27.24 MB)\n",
            "Non-trainable params: 0 (0.00 Byte)\n",
            "_________________________________________________________________\n"
          ]
        }
      ],
      "source": [
        "model.add(Flatten())\n",
        "model.add(Dense(50, activation='relu'))\n",
        "model.add(Dense(NUM_LABELS, activation='softmax'))\n",
        "model.compile(loss='categorical_crossentropy', optimizer='adam', metrics=['accuracy'])\n",
        "\n",
        "model.summary()\n",
        "\n"
      ]
    },
    {
      "cell_type": "markdown",
      "metadata": {
        "id": "hrGMS1zmrs63"
      },
      "source": [
        "Entrenar el modelo"
      ]
    },
    {
      "cell_type": "code",
      "execution_count": null,
      "metadata": {
        "id": "WVGJX2zdrsS6"
      },
      "outputs": [],
      "source": [
        "from keras.callbacks import ModelCheckpoint, EarlyStopping\n",
        "# Para el entrenamiento después de 3 epochs sin el error en el conjunto de validación no mejora\n",
        "earlyStopping = EarlyStopping(monitor='val_loss', min_delta=0, patience=3, verbose=0, mode='auto')"
      ]
    },
    {
      "cell_type": "code",
      "execution_count": null,
      "metadata": {
        "colab": {
          "base_uri": "https://localhost:8080/"
        },
        "id": "Az5ef8shrzLM",
        "outputId": "b21ffac1-2602-499f-d1ad-ff27ffa8b2a6"
      },
      "outputs": [
        {
          "output_type": "stream",
          "name": "stdout",
          "text": [
            "Epoch 1/10\n",
            "529/529 [==============================] - 75s 129ms/step - loss: 0.9748 - accuracy: 0.4357 - val_loss: 1.1593 - val_accuracy: 0.0099\n",
            "Epoch 2/10\n",
            "529/529 [==============================] - 74s 139ms/step - loss: 0.8193 - accuracy: 0.5387 - val_loss: 0.9311 - val_accuracy: 0.9291\n",
            "Epoch 3/10\n",
            "529/529 [==============================] - 68s 129ms/step - loss: 0.7348 - accuracy: 0.6248 - val_loss: 0.5371 - val_accuracy: 0.9697\n",
            "Epoch 4/10\n",
            "529/529 [==============================] - 69s 131ms/step - loss: 0.5857 - accuracy: 0.8126 - val_loss: 0.4790 - val_accuracy: 0.9418\n",
            "Epoch 5/10\n",
            "529/529 [==============================] - 69s 131ms/step - loss: 0.3417 - accuracy: 0.9195 - val_loss: 0.3853 - val_accuracy: 0.9579\n",
            "Epoch 6/10\n",
            "529/529 [==============================] - 68s 128ms/step - loss: 0.2037 - accuracy: 0.9564 - val_loss: 0.2743 - val_accuracy: 0.9650\n",
            "Epoch 7/10\n",
            "529/529 [==============================] - 69s 130ms/step - loss: 0.1398 - accuracy: 0.9700 - val_loss: 0.2317 - val_accuracy: 0.9400\n",
            "Epoch 8/10\n",
            "529/529 [==============================] - 68s 128ms/step - loss: 0.0909 - accuracy: 0.9822 - val_loss: 0.3134 - val_accuracy: 0.9277\n",
            "Epoch 9/10\n",
            "529/529 [==============================] - 70s 132ms/step - loss: 0.0616 - accuracy: 0.9882 - val_loss: 0.1581 - val_accuracy: 0.9764\n",
            "Epoch 10/10\n",
            "529/529 [==============================] - 68s 128ms/step - loss: 0.0524 - accuracy: 0.9896 - val_loss: 0.1818 - val_accuracy: 0.9697\n"
          ]
        }
      ],
      "source": [
        "epochs = 10\n",
        "batch_size = 16\n",
        "\n",
        "# training\n",
        "history=model.fit(encoded_train_pad,  # textos preprocesados\n",
        "                  y_train_cat,          # labels en formato one-hot\n",
        "                  epochs=epochs,\n",
        "                  batch_size=batch_size,\n",
        "                  validation_split=0.2,\n",
        "                  callbacks=[earlyStopping],\n",
        "                  )\n"
      ]
    },
    {
      "cell_type": "markdown",
      "metadata": {
        "id": "FAah4Ngsr_Kl"
      },
      "source": [
        "Curvas de aprendizaje\n"
      ]
    },
    {
      "cell_type": "code",
      "execution_count": null,
      "metadata": {
        "colab": {
          "base_uri": "https://localhost:8080/",
          "height": 590
        },
        "id": "Cs__lzwtsCe_",
        "outputId": "172f0636-fa83-4bab-bb33-d79037dde1cb"
      },
      "outputs": [
        {
          "output_type": "execute_result",
          "data": {
            "text/plain": [
              "<matplotlib.legend.Legend at 0x78635338beb0>"
            ]
          },
          "metadata": {},
          "execution_count": 99
        },
        {
          "output_type": "display_data",
          "data": {
            "text/plain": [
              "<Figure size 1400x600 with 2 Axes>"
            ],
            "image/png": "[encoded data removed]"
          },
          "metadata": {}
        }
      ],
      "source": [
        "import matplotlib.pyplot as plt\n",
        "\n",
        "history_dict = history.history\n",
        "loss_values = history_dict['loss']\n",
        "val_loss_values = history_dict['val_loss']\n",
        "accuracy = history_dict['accuracy']\n",
        "val_accuracy = history_dict['val_accuracy']\n",
        "\n",
        "epochs = range(1, len(loss_values) + 1)\n",
        "fig, ax = plt.subplots(1, 2, figsize=(14, 6))\n",
        "#\n",
        "# Curva accuracy vs Epochs\n",
        "#\n",
        "ax[0].plot(epochs, accuracy, 'b', label='Training accuracy')\n",
        "ax[0].plot(epochs, val_accuracy, 'red', label='Validation accuracy')\n",
        "ax[0].set_title('Training & Validation Accuracy', fontsize=16)\n",
        "ax[0].set_xlabel('Epochs', fontsize=16)\n",
        "ax[0].set_ylabel('Accuracy', fontsize=16)\n",
        "ax[0].legend()\n",
        "#\n",
        "# Curva loss vs Epochs\n",
        "#\n",
        "ax[1].plot(epochs, loss_values, 'b', label='Training loss')\n",
        "ax[1].plot(epochs, val_loss_values, 'red', label='Validation loss')\n",
        "ax[1].set_title('Training & Validation Loss', fontsize=16)\n",
        "ax[1].set_xlabel('Epochs', fontsize=16)\n",
        "ax[1].set_ylabel('Loss', fontsize=16)\n",
        "ax[1].legend()"
      ]
    },
    {
      "cell_type": "markdown",
      "metadata": {
        "id": "P03_HNA4upZH"
      },
      "source": [
        "Evaluar modelo"
      ]
    },
    {
      "cell_type": "code",
      "execution_count": null,
      "metadata": {
        "colab": {
          "base_uri": "https://localhost:8080/",
          "height": 388
        },
        "id": "AKeuuS-jusiB",
        "outputId": "c4579a94-984e-496b-ba5d-f6aaaa72edf8"
      },
      "outputs": [
        {
          "output_type": "error",
          "ename": "ValueError",
          "evalue": "Data cardinality is ambiguous:\n  x sizes: 2200\n  y sizes: 420\nMake sure all arrays contain the same number of samples.",
          "traceback": [
            "\u001b[0;31m---------------------------------------------------------------------------\u001b[0m",
            "\u001b[0;31mValueError\u001b[0m                                Traceback (most recent call last)",
            "\u001b[0;32m<ipython-input-100-6fc48cabbf6b>\u001b[0m in \u001b[0;36m<cell line: 5>\u001b[0;34m()\u001b[0m\n\u001b[1;32m      3\u001b[0m \u001b[0mencoded_test\u001b[0m \u001b[0;34m=\u001b[0m \u001b[0mpad_sequences\u001b[0m\u001b[0;34m(\u001b[0m\u001b[0mencoded_test\u001b[0m\u001b[0;34m,\u001b[0m \u001b[0mmaxlen\u001b[0m \u001b[0;34m=\u001b[0m \u001b[0mMAX_LEN\u001b[0m\u001b[0;34m,\u001b[0m \u001b[0mpadding\u001b[0m\u001b[0;34m=\u001b[0m\u001b[0;34m'post'\u001b[0m\u001b[0;34m)\u001b[0m\u001b[0;34m\u001b[0m\u001b[0;34m\u001b[0m\u001b[0m\n\u001b[1;32m      4\u001b[0m \u001b[0;34m\u001b[0m\u001b[0m\n\u001b[0;32m----> 5\u001b[0;31m \u001b[0mloss\u001b[0m\u001b[0;34m,\u001b[0m \u001b[0maccuracy\u001b[0m \u001b[0;34m=\u001b[0m \u001b[0mmodel\u001b[0m\u001b[0;34m.\u001b[0m\u001b[0mevaluate\u001b[0m\u001b[0;34m(\u001b[0m\u001b[0mencoded_test\u001b[0m\u001b[0;34m,\u001b[0m \u001b[0my_test_cat\u001b[0m\u001b[0;34m,\u001b[0m \u001b[0mbatch_size\u001b[0m\u001b[0;34m=\u001b[0m\u001b[0mbatch_size\u001b[0m\u001b[0;34m)\u001b[0m\u001b[0;34m\u001b[0m\u001b[0;34m\u001b[0m\u001b[0m\n\u001b[0m",
            "\u001b[0;32m/usr/local/lib/python3.10/dist-packages/keras/src/utils/traceback_utils.py\u001b[0m in \u001b[0;36merror_handler\u001b[0;34m(*args, **kwargs)\u001b[0m\n\u001b[1;32m     68\u001b[0m             \u001b[0;31m# To get the full stack trace, call:\u001b[0m\u001b[0;34m\u001b[0m\u001b[0;34m\u001b[0m\u001b[0m\n\u001b[1;32m     69\u001b[0m             \u001b[0;31m# `tf.debugging.disable_traceback_filtering()`\u001b[0m\u001b[0;34m\u001b[0m\u001b[0;34m\u001b[0m\u001b[0m\n\u001b[0;32m---> 70\u001b[0;31m             \u001b[0;32mraise\u001b[0m \u001b[0me\u001b[0m\u001b[0;34m.\u001b[0m\u001b[0mwith_traceback\u001b[0m\u001b[0;34m(\u001b[0m\u001b[0mfiltered_tb\u001b[0m\u001b[0;34m)\u001b[0m \u001b[0;32mfrom\u001b[0m \u001b[0;32mNone\u001b[0m\u001b[0;34m\u001b[0m\u001b[0;34m\u001b[0m\u001b[0m\n\u001b[0m\u001b[1;32m     71\u001b[0m         \u001b[0;32mfinally\u001b[0m\u001b[0;34m:\u001b[0m\u001b[0;34m\u001b[0m\u001b[0;34m\u001b[0m\u001b[0m\n\u001b[1;32m     72\u001b[0m             \u001b[0;32mdel\u001b[0m \u001b[0mfiltered_tb\u001b[0m\u001b[0;34m\u001b[0m\u001b[0;34m\u001b[0m\u001b[0m\n",
            "\u001b[0;32m/usr/local/lib/python3.10/dist-packages/keras/src/engine/data_adapter.py\u001b[0m in \u001b[0;36m_check_data_cardinality\u001b[0;34m(data)\u001b[0m\n\u001b[1;32m   1958\u001b[0m             )\n\u001b[1;32m   1959\u001b[0m         \u001b[0mmsg\u001b[0m \u001b[0;34m+=\u001b[0m \u001b[0;34m\"Make sure all arrays contain the same number of samples.\"\u001b[0m\u001b[0;34m\u001b[0m\u001b[0;34m\u001b[0m\u001b[0m\n\u001b[0;32m-> 1960\u001b[0;31m         \u001b[0;32mraise\u001b[0m \u001b[0mValueError\u001b[0m\u001b[0;34m(\u001b[0m\u001b[0mmsg\u001b[0m\u001b[0;34m)\u001b[0m\u001b[0;34m\u001b[0m\u001b[0;34m\u001b[0m\u001b[0m\n\u001b[0m\u001b[1;32m   1961\u001b[0m \u001b[0;34m\u001b[0m\u001b[0m\n\u001b[1;32m   1962\u001b[0m \u001b[0;34m\u001b[0m\u001b[0m\n",
            "\u001b[0;31mValueError\u001b[0m: Data cardinality is ambiguous:\n  x sizes: 2200\n  y sizes: 420\nMake sure all arrays contain the same number of samples."
          ]
        }
      ],
      "source": [
        "X_test = df_test['content'].tolist()\n",
        "encoded_test = tokenizer.texts_to_sequences(X_test)\n",
        "encoded_test = pad_sequences(encoded_test, maxlen = MAX_LEN, padding='post')\n",
        "\n",
        "loss, accuracy = model.evaluate(encoded_test, y_test_cat, batch_size=batch_size)"
      ]
    },
    {
      "cell_type": "code",
      "execution_count": null,
      "metadata": {
        "colab": {
          "base_uri": "https://localhost:8080/"
        },
        "id": "Oa3QHDtJu-VZ",
        "outputId": "24d0d9e3-6612-4f4c-a0df-770aac0ab22b"
      },
      "outputs": [
        {
          "output_type": "stream",
          "name": "stdout",
          "text": [
            "14/14 [==============================] - 1s 18ms/step\n",
            "[1 0 0 0 0 0 0 0 0 0]\n",
            "accuracy: 0.8023809523809524\n",
            "              precision    recall  f1-score   support\n",
            "\n",
            "          NP       0.82      0.92      0.87       261\n",
            "          NR       0.77      0.67      0.72       107\n",
            "           P       0.74      0.50      0.60        52\n",
            "\n",
            "    accuracy                           0.80       420\n",
            "   macro avg       0.78      0.70      0.73       420\n",
            "weighted avg       0.80      0.80      0.79       420\n",
            "\n"
          ]
        }
      ],
      "source": [
        "import numpy as np\n",
        "from sklearn.metrics import accuracy_score, classification_report\n",
        "y_pred = np.argmax(model.predict(encoded_test), axis=1)\n",
        "print(y_pred[0:10])\n",
        "\n",
        "print('accuracy:', accuracy_score(y_test, y_pred))\n",
        "print(classification_report(y_test, y_pred, target_names=LABELS))"
      ]
    },
    {
      "cell_type": "markdown",
      "metadata": {
        "id": "epQ-VDTCwC4B"
      },
      "source": [
        "Resultados de la macro"
      ]
    },
    {
      "cell_type": "code",
      "execution_count": null,
      "metadata": {
        "colab": {
          "base_uri": "https://localhost:8080/",
          "height": 503
        },
        "id": "nN89fNpqwPiB",
        "outputId": "a8f5f2b1-f222-475f-e7c8-9b3e0eeddc72"
      },
      "outputs": [
        {
          "output_type": "stream",
          "name": "stdout",
          "text": [
            "[[239  14   8]\n",
            " [ 34  72   1]\n",
            " [ 18   8  26]]\n"
          ]
        },
        {
          "output_type": "display_data",
          "data": {
            "text/plain": [
              "<Figure size 640x480 with 2 Axes>"
            ],
            "image/png": "[encoded data removed]"
          },
          "metadata": {}
        }
      ],
      "source": [
        "import matplotlib.pyplot as plt\n",
        "\n",
        "from sklearn.metrics import confusion_matrix, ConfusionMatrixDisplay\n",
        "print(confusion_matrix(y_test, y_pred))\n",
        "disp=ConfusionMatrixDisplay.from_predictions(y_test, y_pred, cmap=plt.cm.Blues)"
      ]
    },
    {
      "cell_type": "code",
      "source": [
        "df_test = pd.read_csv(\"track_1_public_test.csv\",  sep=',')\n",
        "X_test=df_test['content']\n",
        "\n",
        "Test_predictions = model.predict(X_test)\n",
        "# Crear un DataFrame con las columnas 'sub_id' y 'content' del DataFrame original\n",
        "nuevo_data = df_test[['sub_id']].copy()\n",
        "\n",
        "# Agregar la columna 'label' con los resultados de las predicciones\n",
        "nuevo_data['label'] = Test_predictions\n",
        "nuevo_data\n",
        "nuevo_data.to_csv('track_1_predictions.csv', index=False)"
      ],
      "metadata": {
        "colab": {
          "base_uri": "https://localhost:8080/",
          "height": 751
        },
        "id": "FNcBSqRu5gkx",
        "outputId": "c4cf77f0-43b9-4929-88a8-a608e2cc1186"
      },
      "execution_count": null,
      "outputs": [
        {
          "output_type": "error",
          "ename": "ValueError",
          "evalue": "in user code:\n\n    File \"/usr/local/lib/python3.10/dist-packages/keras/src/engine/training.py\", line 2440, in predict_function  *\n        return step_function(self, iterator)\n    File \"/usr/local/lib/python3.10/dist-packages/keras/src/engine/training.py\", line 2425, in step_function  **\n        outputs = model.distribute_strategy.run(run_step, args=(data,))\n    File \"/usr/local/lib/python3.10/dist-packages/keras/src/engine/training.py\", line 2413, in run_step  **\n        outputs = model.predict_step(data)\n    File \"/usr/local/lib/python3.10/dist-packages/keras/src/engine/training.py\", line 2381, in predict_step\n        return self(x, training=False)\n    File \"/usr/local/lib/python3.10/dist-packages/keras/src/utils/traceback_utils.py\", line 70, in error_handler\n        raise e.with_traceback(filtered_tb) from None\n    File \"/usr/local/lib/python3.10/dist-packages/keras/src/backend.py\", line 6642, in pool2d\n        x = tf.compat.v1.nn.max_pool(\n\n    ValueError: Exception encountered when calling layer 'max_pooling1d_18' (type MaxPooling1D).\n    \n    Negative dimension size caused by subtracting 2 from 1 for '{{node sequential_6/max_pooling1d_18/MaxPool}} = MaxPool[T=DT_FLOAT, data_format=\"NHWC\", explicit_paddings=[], ksize=[1, 2, 1, 1], padding=\"VALID\", strides=[1, 2, 1, 1]](sequential_6/max_pooling1d_18/ExpandDims)' with input shapes: [?,1,1,128].\n    \n    Call arguments received by layer 'max_pooling1d_18' (type MaxPooling1D):\n      • inputs=tf.Tensor(shape=(None, 1, 128), dtype=float32)\n",
          "traceback": [
            "\u001b[0;31m---------------------------------------------------------------------------\u001b[0m",
            "\u001b[0;31mValueError\u001b[0m                                Traceback (most recent call last)",
            "\u001b[0;32m<ipython-input-80-a4cf4887411e>\u001b[0m in \u001b[0;36m<cell line: 4>\u001b[0;34m()\u001b[0m\n\u001b[1;32m      2\u001b[0m \u001b[0mX_test\u001b[0m\u001b[0;34m=\u001b[0m\u001b[0mdf_test\u001b[0m\u001b[0;34m[\u001b[0m\u001b[0;34m'content'\u001b[0m\u001b[0;34m]\u001b[0m\u001b[0;34m\u001b[0m\u001b[0;34m\u001b[0m\u001b[0m\n\u001b[1;32m      3\u001b[0m \u001b[0;34m\u001b[0m\u001b[0m\n\u001b[0;32m----> 4\u001b[0;31m \u001b[0mTest_predictions\u001b[0m \u001b[0;34m=\u001b[0m \u001b[0mmodel\u001b[0m\u001b[0;34m.\u001b[0m\u001b[0mpredict\u001b[0m\u001b[0;34m(\u001b[0m\u001b[0mX_test\u001b[0m\u001b[0;34m)\u001b[0m\u001b[0;34m\u001b[0m\u001b[0;34m\u001b[0m\u001b[0m\n\u001b[0m\u001b[1;32m      5\u001b[0m \u001b[0;31m# Crear un DataFrame con las columnas 'sub_id' y 'content' del DataFrame original\u001b[0m\u001b[0;34m\u001b[0m\u001b[0;34m\u001b[0m\u001b[0m\n\u001b[1;32m      6\u001b[0m \u001b[0mnuevo_data\u001b[0m \u001b[0;34m=\u001b[0m \u001b[0mdf_test\u001b[0m\u001b[0;34m[\u001b[0m\u001b[0;34m[\u001b[0m\u001b[0;34m'sub_id'\u001b[0m\u001b[0;34m]\u001b[0m\u001b[0;34m]\u001b[0m\u001b[0;34m.\u001b[0m\u001b[0mcopy\u001b[0m\u001b[0;34m(\u001b[0m\u001b[0;34m)\u001b[0m\u001b[0;34m\u001b[0m\u001b[0;34m\u001b[0m\u001b[0m\n",
            "\u001b[0;32m/usr/local/lib/python3.10/dist-packages/keras/src/utils/traceback_utils.py\u001b[0m in \u001b[0;36merror_handler\u001b[0;34m(*args, **kwargs)\u001b[0m\n\u001b[1;32m     68\u001b[0m             \u001b[0;31m# To get the full stack trace, call:\u001b[0m\u001b[0;34m\u001b[0m\u001b[0;34m\u001b[0m\u001b[0m\n\u001b[1;32m     69\u001b[0m             \u001b[0;31m# `tf.debugging.disable_traceback_filtering()`\u001b[0m\u001b[0;34m\u001b[0m\u001b[0;34m\u001b[0m\u001b[0m\n\u001b[0;32m---> 70\u001b[0;31m             \u001b[0;32mraise\u001b[0m \u001b[0me\u001b[0m\u001b[0;34m.\u001b[0m\u001b[0mwith_traceback\u001b[0m\u001b[0;34m(\u001b[0m\u001b[0mfiltered_tb\u001b[0m\u001b[0;34m)\u001b[0m \u001b[0;32mfrom\u001b[0m \u001b[0;32mNone\u001b[0m\u001b[0;34m\u001b[0m\u001b[0;34m\u001b[0m\u001b[0m\n\u001b[0m\u001b[1;32m     71\u001b[0m         \u001b[0;32mfinally\u001b[0m\u001b[0;34m:\u001b[0m\u001b[0;34m\u001b[0m\u001b[0;34m\u001b[0m\u001b[0m\n\u001b[1;32m     72\u001b[0m             \u001b[0;32mdel\u001b[0m \u001b[0mfiltered_tb\u001b[0m\u001b[0;34m\u001b[0m\u001b[0;34m\u001b[0m\u001b[0m\n",
            "\u001b[0;32m/usr/local/lib/python3.10/dist-packages/keras/src/engine/training.py\u001b[0m in \u001b[0;36mtf__predict_function\u001b[0;34m(iterator)\u001b[0m\n\u001b[1;32m     13\u001b[0m                 \u001b[0;32mtry\u001b[0m\u001b[0;34m:\u001b[0m\u001b[0;34m\u001b[0m\u001b[0;34m\u001b[0m\u001b[0m\n\u001b[1;32m     14\u001b[0m                     \u001b[0mdo_return\u001b[0m \u001b[0;34m=\u001b[0m \u001b[0;32mTrue\u001b[0m\u001b[0;34m\u001b[0m\u001b[0;34m\u001b[0m\u001b[0m\n\u001b[0;32m---> 15\u001b[0;31m                     \u001b[0mretval_\u001b[0m \u001b[0;34m=\u001b[0m \u001b[0mag__\u001b[0m\u001b[0;34m.\u001b[0m\u001b[0mconverted_call\u001b[0m\u001b[0;34m(\u001b[0m\u001b[0mag__\u001b[0m\u001b[0;34m.\u001b[0m\u001b[0mld\u001b[0m\u001b[0;34m(\u001b[0m\u001b[0mstep_function\u001b[0m\u001b[0;34m)\u001b[0m\u001b[0;34m,\u001b[0m \u001b[0;34m(\u001b[0m\u001b[0mag__\u001b[0m\u001b[0;34m.\u001b[0m\u001b[0mld\u001b[0m\u001b[0;34m(\u001b[0m\u001b[0mself\u001b[0m\u001b[0;34m)\u001b[0m\u001b[0;34m,\u001b[0m \u001b[0mag__\u001b[0m\u001b[0;34m.\u001b[0m\u001b[0mld\u001b[0m\u001b[0;34m(\u001b[0m\u001b[0miterator\u001b[0m\u001b[0;34m)\u001b[0m\u001b[0;34m)\u001b[0m\u001b[0;34m,\u001b[0m \u001b[0;32mNone\u001b[0m\u001b[0;34m,\u001b[0m \u001b[0mfscope\u001b[0m\u001b[0;34m)\u001b[0m\u001b[0;34m\u001b[0m\u001b[0;34m\u001b[0m\u001b[0m\n\u001b[0m\u001b[1;32m     16\u001b[0m                 \u001b[0;32mexcept\u001b[0m\u001b[0;34m:\u001b[0m\u001b[0;34m\u001b[0m\u001b[0;34m\u001b[0m\u001b[0m\n\u001b[1;32m     17\u001b[0m                     \u001b[0mdo_return\u001b[0m \u001b[0;34m=\u001b[0m \u001b[0;32mFalse\u001b[0m\u001b[0;34m\u001b[0m\u001b[0;34m\u001b[0m\u001b[0m\n",
            "\u001b[0;31mValueError\u001b[0m: in user code:\n\n    File \"/usr/local/lib/python3.10/dist-packages/keras/src/engine/training.py\", line 2440, in predict_function  *\n        return step_function(self, iterator)\n    File \"/usr/local/lib/python3.10/dist-packages/keras/src/engine/training.py\", line 2425, in step_function  **\n        outputs = model.distribute_strategy.run(run_step, args=(data,))\n    File \"/usr/local/lib/python3.10/dist-packages/keras/src/engine/training.py\", line 2413, in run_step  **\n        outputs = model.predict_step(data)\n    File \"/usr/local/lib/python3.10/dist-packages/keras/src/engine/training.py\", line 2381, in predict_step\n        return self(x, training=False)\n    File \"/usr/local/lib/python3.10/dist-packages/keras/src/utils/traceback_utils.py\", line 70, in error_handler\n        raise e.with_traceback(filtered_tb) from None\n    File \"/usr/local/lib/python3.10/dist-packages/keras/src/backend.py\", line 6642, in pool2d\n        x = tf.compat.v1.nn.max_pool(\n\n    ValueError: Exception encountered when calling layer 'max_pooling1d_18' (type MaxPooling1D).\n    \n    Negative dimension size caused by subtracting 2 from 1 for '{{node sequential_6/max_pooling1d_18/MaxPool}} = MaxPool[T=DT_FLOAT, data_format=\"NHWC\", explicit_paddings=[], ksize=[1, 2, 1, 1], padding=\"VALID\", strides=[1, 2, 1, 1]](sequential_6/max_pooling1d_18/ExpandDims)' with input shapes: [?,1,1,128].\n    \n    Call arguments received by layer 'max_pooling1d_18' (type MaxPooling1D):\n      • inputs=tf.Tensor(shape=(None, 1, 128), dtype=float32)\n"
          ]
        }
      ]
    }
  ],
  "metadata": {
    "colab": {
      "provenance": []
    },
    "kernelspec": {
      "display_name": "Python 3",
      "name": "python3"
    },
    "language_info": {
      "name": "python"
    }
  },
  "nbformat": 4,
  "nbformat_minor": 0
}